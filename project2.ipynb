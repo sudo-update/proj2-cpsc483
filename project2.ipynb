{
 "cells": [
  {
   "cell_type": "markdown",
   "id": "880eecf0",
   "metadata": {},
   "source": [
    "<h6>Fall 2021 - CPSC 483-02<br>\n",
    "Project 2 - <br>\n",
    "Sean Javiya <br>\n",
    "Jake Wong <br>\n",
    "</h6>\n",
    "In Project 1 - Anomaly Detection, we were given a dataset containing a list of students and their Zoom attendance over a 5 week course.<br>We performed various statistical tests on the data, in order to develop a function that will parse the provided dataset and output a list of students who were tardy or under-attended.<br>We developed two functions using different statistical methods of detecting anomalies in the dataset.<br>We conducted an analysis on the results and determined which function was more appropriate for the given dataset.\n",
    "^rewrite"
   ]
  },
  {
   "cell_type": "code",
   "execution_count": 225,
   "id": "e98195db",
   "metadata": {},
   "outputs": [
    {
     "name": "stdout",
     "output_type": "stream",
     "text": [
      "1000\n",
      "900\n",
      "100\n"
     ]
    }
   ],
   "source": [
    "#import csv\n",
    "import numpy as np\n",
    "import matplotlib.pyplot as plt\n",
    "from numpy.linalg import inv\n",
    "\n",
    "headers = []\n",
    "values = []\n",
    "\n",
    "#with open('dataset.csv') as csv_data:\n",
    "#    data_stream = csv.reader(csv_data, delimiter=',')\n",
    "#    headers = next(data_stream)\n",
    "\n",
    "xvalues = np.loadtxt(\"dataset.csv\", delimiter=\",\", skiprows=1, usecols=(0,1))\n",
    "yvalues = np.loadtxt(\"dataset.csv\", delimiter=\",\", skiprows=1, usecols=2)\n",
    "#print(yvalues[800])\n",
    "randomnumber = np.random.randint(0, yvalues.size, size= int(yvalues.size/10))\n",
    "#print (randomnumber.size)\n",
    "print (yvalues.size)\n",
    "#print (randomnumber)\n",
    "xtrain = xvalues\n",
    "ytrain = yvalues\n",
    "#print(xtrain[0])\n",
    "xtest1 = [] #10%\n",
    "xtest2 = []\n",
    "ytest = [] #10%\n",
    "randomnumber[::-1].sort()\n",
    "for n in randomnumber:\n",
    "    xtest1.append(xvalues[n, 0])\n",
    "    xtest2.append(xvalues[n, 1])\n",
    "    ytest.append(yvalues[n])\n",
    "    xtrain = np.delete(xtrain, n, 0)\n",
    "    ytrain = np.delete(ytrain, n, 0)\n",
    "xtest = np.stack((xtest1, xtest2), axis= -1)\n",
    "ytest = np.asarray(ytest)\n",
    "#print(randomnumber[0])\n",
    "print (ytrain.size)\n",
    "print (ytest.size)\n",
    "#print (xtrain)"
   ]
  },
  {
   "cell_type": "code",
   "execution_count": 226,
   "id": "9ed05861",
   "metadata": {},
   "outputs": [
    {
     "name": "stdout",
     "output_type": "stream",
     "text": [
      "[[ 1.         -1.74575782 -1.41239652]\n",
      " [ 1.         -1.16639696 -0.06900688]\n",
      " [ 1.         -0.86156208 -1.6482701 ]\n",
      " ...\n",
      " [ 1.          0.16524725 -1.4451267 ]\n",
      " [ 1.          0.60744114 -2.60559204]\n",
      " [ 1.          0.04306784 -3.45458992]]\n",
      "[0.62540293 0.08449543 0.00846975]\n"
     ]
    }
   ],
   "source": [
    "#plt.plot(xtest[:,0], ytest, 'ro')\n",
    "#plt.plot(xtest[:,1], ytest, 'ro')\n",
    "#print (xvalues[0])\n",
    "#print (xtrain)\n",
    "#print (xvalues[994])\n",
    "#print (xtest[0])\n",
    "Xtrain = np.hstack((np.ones_like(xtrain), xtrain))\n",
    "Xtrain = np.delete(Xtrain, 0, 1)\n",
    "print (Xtrain)\n",
    "weights = np.linalg.inv(Xtrain.transpose().dot(Xtrain)).dot(Xtrain.transpose()).dot(ytrain)\n",
    "print (weights)\n"
   ]
  },
  {
   "cell_type": "markdown",
   "id": "ea8eb4d6",
   "metadata": {},
   "source": [
    "y = b + mx\n",
    "y = w0 x1 + w1 x2\n",
    "given x1 x2 and y\n",
    "y = (w0 w1) dotproduct (x1 x2)\n",
    "y dotproduct inverse of transpose of (x1 x2) = (w0 w1)\n",
    "\n",
    "y = weights dot xtrain"
   ]
  },
  {
   "cell_type": "code",
   "execution_count": 227,
   "id": "e11149e9",
   "metadata": {},
   "outputs": [
    {
     "name": "stdout",
     "output_type": "stream",
     "text": [
      "8.580322765358575\n"
     ]
    }
   ],
   "source": [
    "\n",
    "predicteddata = []\n",
    "predictrange = ytrain.size\n",
    "predictrange -= 1\n",
    "#print (predictrange)\n",
    "while predictrange >= 0:\n",
    "    prediction = weights[0] * Xtrain[predictrange,0] + weights[1] * Xtrain[predictrange, 1] + weights[2] * Xtrain[predictrange, 2]\n",
    "    predicteddata.append(prediction)\n",
    "    predictrange -= 1\n",
    "    #print(xtrain[n])\n",
    "#print(predicteddata)\n",
    "predicteddata[::-1].sort()\n",
    "#print(len(predicteddata))\n",
    "predictrange = ytrain.size\n",
    "predictrange -= 1\n",
    "squaredloss = 0\n",
    "while predictrange >= 0:\n",
    "    squaredloss += (ytrain[predictrange] - predicteddata[predictrange])**2\n",
    "    predictrange -=1\n",
    "squaredloss = squaredloss / ytrain.size\n",
    "print (squaredloss)\n",
    "#plt.plot(weights, ytrain, 'ro')"
   ]
  },
  {
   "cell_type": "code",
   "execution_count": 228,
   "id": "4469f7ed",
   "metadata": {},
   "outputs": [
    {
     "name": "stdout",
     "output_type": "stream",
     "text": [
      "[0.52139562 0.08288432 0.01052376 0.03077441 0.00587886]\n",
      "8.576101742087577\n"
     ]
    }
   ],
   "source": [
    "#predictrange = ytrain.size - 1\n",
    "#n = 0\n",
    "#ones = []\n",
    "#while n <= predictrange:\n",
    "#    ones.append(1)\n",
    "#    n += 1\n",
    "#ones = np.asarray(ones)\n",
    "#ones.reshape(ytrain.size, 1)\n",
    "#print (ones.shape)\n",
    "#print (xtrain.shape)\n",
    "#Xquadratic = np.stack((ones, xtrain), axis = -1)\n",
    "#print (Xquadratic)\n",
    "#Xquadratic = np.concatenate((np.ones_like(ytrain), xtrain), axis= -1)\n",
    "\n",
    "Xquadratic = np.hstack((np.ones_like(xtrain), xtrain, xtrain**2))\n",
    "#Xquadratic = np.hstack(ones_like(Xquadratic), Xquadratic)\n",
    "#Xquadratic = np.hstack((np.ones_like(xtrain), xtrain))\n",
    "Xquadratic = np.delete(Xquadratic, 0, 1)\n",
    "#print(Xquadratic)\n",
    "quadweights = np.linalg.inv(Xquadratic.transpose().dot(Xquadratic)).dot(Xquadratic.transpose()).dot(ytrain)\n",
    "print(quadweights)\n",
    "  #plt.plot((Xquadratic.transpose().dot(xtrain)), ytrain, 'ro')\n",
    "quadpredicteddata = []\n",
    "predictrange = ytrain.size\n",
    "predictrange -= 1\n",
    "  #print (predictrange)\n",
    "while predictrange >= 0:\n",
    "    quadprediction = quadweights[0] * Xquadratic[predictrange, 0] + quadweights[1] * Xquadratic[predictrange, 1] + quadweights[2] *Xquadratic[predictrange, 2] + quadweights[3] * Xquadratic[predictrange, 3] + quadweights[4] * Xquadratic[predictrange, 4]\n",
    "    quadpredicteddata.append(quadprediction)\n",
    "    predictrange -= 1\n",
    "      #print(xtrain[n])\n",
    "  #print(predicteddata)\n",
    "predicteddata[::-1].sort()\n",
    "predictrange = ytrain.size\n",
    "predictrange -= 1\n",
    "squaredloss = 0\n",
    "while predictrange >= 0:\n",
    "    squaredloss += (ytrain[predictrange] - quadpredicteddata[predictrange])**2\n",
    "    predictrange -=1\n",
    "squaredloss = squaredloss / ytrain.size\n",
    "print (squaredloss)\n",
    "#plt.plot(predicteddata, ytrain, 'b')\n"
   ]
  },
  {
   "cell_type": "markdown",
   "id": "6974b1d0",
   "metadata": {},
   "source": [
    "equation is w0* 1 + w1 x1 + w2x2 + w3 x1^2 + w4 x2^2"
   ]
  },
  {
   "cell_type": "code",
   "execution_count": 229,
   "id": "18578bfa",
   "metadata": {},
   "outputs": [
    {
     "name": "stdout",
     "output_type": "stream",
     "text": [
      "8.57498588629352\n"
     ]
    }
   ],
   "source": [
    "#print (xtest)\n",
    "#print (ytest)\n",
    "Xtest = np.hstack((np.ones_like(xtest), xtest))\n",
    "Xtest = np.delete(Xtest, 0, 1)\n",
    "predicteddata = []\n",
    "predictrange = ytest.size\n",
    "predictrange -= 1\n",
    "#print (predictrange)\n",
    "while predictrange >= 0:\n",
    "    prediction = weights[0] * Xtest[predictrange,0] + weights[1] * Xtest[predictrange, 1] + weights[2] * Xtest[predictrange, 2]\n",
    "    predicteddata.append(prediction)\n",
    "    predictrange -= 1\n",
    "    #print(xtrain[n])\n",
    "#print(predicteddata)\n",
    "predicteddata[::-1].sort()\n",
    "#print(len(predicteddata))\n",
    "predictrange = ytest.size\n",
    "predictrange -= 1\n",
    "squaredloss = 0\n",
    "while predictrange >= 0:\n",
    "    squaredloss += (ytest[predictrange] - predicteddata[predictrange])**2\n",
    "    predictrange -=1\n",
    "squaredloss = squaredloss / ytest.size\n",
    "print (squaredloss)"
   ]
  },
  {
   "cell_type": "code",
   "execution_count": 230,
   "id": "593f9b84",
   "metadata": {},
   "outputs": [
    {
     "name": "stdout",
     "output_type": "stream",
     "text": [
      "8.480779434041326\n"
     ]
    }
   ],
   "source": [
    "Xquadtest = np.hstack((np.ones_like(xtest), xtest, xtest**2))\n",
    "#Xquadratic = np.hstack(ones_like(Xquadratic), Xquadratic)\n",
    "#Xquadratic = np.hstack((np.ones_like(xtrain), xtrain))\n",
    "Xquadtest = np.delete(Xquadtest, 0, 1)\n",
    "#print(Xquadtest)\n",
    "\n",
    "quadpredicteddata = []\n",
    "predictrange = ytest.size\n",
    "predictrange -= 1\n",
    "  #print (predictrange)\n",
    "while predictrange >= 0:\n",
    "    quadprediction = quadweights[0] * Xquadtest[predictrange, 0] + quadweights[1] * Xquadtest[predictrange, 1] + quadweights[2] * Xquadtest[predictrange, 2] + quadweights[3] * Xquadtest[predictrange, 3] + quadweights[4] * Xquadtest[predictrange, 4]\n",
    "    quadpredicteddata.append(quadprediction)\n",
    "    predictrange -= 1\n",
    "      #print(xtrain[n])\n",
    "  #print(predicteddata)\n",
    "predicteddata[::-1].sort()\n",
    "predictrange = ytest.size\n",
    "predictrange -= 1\n",
    "squaredloss = 0\n",
    "while predictrange >= 0:\n",
    "    squaredloss += (ytest[predictrange] - quadpredicteddata[predictrange])**2\n",
    "    predictrange -=1\n",
    "squaredloss = squaredloss / ytest.size\n",
    "print (squaredloss)\n"
   ]
  },
  {
   "cell_type": "markdown",
   "id": "62cf7e45",
   "metadata": {},
   "source": [
    "about the same"
   ]
  },
  {
   "cell_type": "code",
   "execution_count": 243,
   "id": "3591caf8",
   "metadata": {},
   "outputs": [
    {
     "name": "stdout",
     "output_type": "stream",
     "text": [
      "8.765276597921535\n"
     ]
    },
    {
     "data": {
      "image/png": "[encoded data removed]",
      "text/plain": [
       "<Figure size 432x288 with 1 Axes>"
      ]
     },
     "metadata": {
      "needs_background": "light"
     },
     "output_type": "display_data"
    }
   ],
   "source": [
    "max_order = 8\n",
    "K = 5\n",
    "cv_loss = np.zeros((K,max_order+1))\n",
    "ind_loss = np.zeros((K,max_order+1))\n",
    "train_loss = np.zeros((K,max_order+1))\n",
    "x_train = xtrain\n",
    "x_ktest = xtest \n",
    "\n",
    "for k in range(max_order+1)[1:]:\n",
    "    for fold in range(K):\n",
    "        y_fold = ytrain[fold*180 : (fold+1)*180]\n",
    "        y_train = np.delete(ytrain, (range(fold*180, (fold+1)*180)))\n",
    "        \n",
    "        X_fold = x_train[fold*180 : (fold+1)*180, : ]\n",
    "        X_fold = np.hstack((np.ones_like(y_fold)[:, np.newaxis], X_fold))\n",
    "        \n",
    "        X_train = np.delete(x_train, (range(fold*180, (fold+1)*180)), 0)\n",
    "        X_train = np.hstack((np.ones_like(y_train)[:, np.newaxis], X_train))\n",
    "        \n",
    "        x_test = np.hstack((np.ones_like(ytest)[:, np.newaxis], x_ktest))\n",
    "        \n",
    "        wfold = np.linalg.solve(np.dot(X_train.T,X_train),np.dot(X_train.T,y_train))\n",
    "        \n",
    "        ind_pred = np.dot(x_test,wfold)\n",
    "        foldpred = np.dot(X_fold,wfold)\n",
    "        train_pred = np.dot(X_train,wfold)\n",
    "        \n",
    "        cv_loss[fold,k] = ((fold_pred - y_fold)**2).mean()\n",
    "        ind_loss[fold,k] = ((ind_pred - ytest)**2).mean()\n",
    "        train_loss[fold,k] = ((train_pred - y_train)**2).mean()  \n",
    "        \n",
    "    x_train = np.hstack((x_train,xtrain**(k+1)))\n",
    "    x_ktest = np.hstack((x_ktest,xtest**(k+1)))    \n",
    "\n",
    "order = np.arange(max_order+1)\n",
    "plt.plot(order,train_loss.mean(axis=0),'b-',label=\"Training loss\")\n",
    "plt.plot(order,cv_loss.mean(axis=0),'r-',label=\"CV loss\")\n",
    "plt.plot(order,ind_loss.mean(axis=0),'k',label=\"Independent test loss\")\n",
    "plt.legend()\n",
    "plt.xlabel('Model order')\n",
    "plt.ylabel('Mean squared loss')\n"
   ]
  },
  {
   "cell_type": "markdown",
   "id": "9f522cd4",
   "metadata": {},
   "source": [
    "around 7, it starts to overfit\n",
    "(1, x1, x2, ... x1^7, x2^7) dot product with wfold\n"
   ]
  },
  {
   "cell_type": "code",
   "execution_count": 244,
   "id": "d61c65bc",
   "metadata": {},
   "outputs": [
    {
     "name": "stdout",
     "output_type": "stream",
     "text": [
      "8.765276597921535\n"
     ]
    }
   ],
   "source": [
    "print(ind_loss[:,7].mean())"
   ]
  },
  {
   "cell_type": "markdown",
   "id": "12e00beb",
   "metadata": {},
   "source": [
    "is the test MSE for polynomial order 7"
   ]
  },
  {
   "cell_type": "code",
   "execution_count": 248,
   "id": "46aba6c8",
   "metadata": {},
   "outputs": [
    {
     "data": {
      "image/png": "[encoded data removed]",
      "text/plain": [
       "<Figure size 432x288 with 1 Axes>"
      ]
     },
     "metadata": {
      "needs_background": "light"
     },
     "output_type": "display_data"
    }
   ],
   "source": [
    "fig = plt.figure()\n",
    "ax = fig.add_subplot(projection='3d')\n",
    "ax.scatter(xtrain[:,0], xtrain[:,1], ytrain)\n",
    "ax.set_xlabel('X1 Label')\n",
    "ax.set_ylabel('X2 Label')\n",
    "ax.set_zlabel('Y Label')\n",
    "\n",
    "plt.show()"
   ]
  },
  {
   "cell_type": "markdown",
   "id": "e27b5ce7",
   "metadata": {},
   "source": [
    "I notice that it looks pretty\n"
   ]
  },
  {
   "cell_type": "code",
   "execution_count": null,
   "id": "7c56a286",
   "metadata": {},
   "outputs": [],
   "source": []
  }
 ],
 "metadata": {
  "kernelspec": {
   "display_name": "Python 3",
   "language": "python",
   "name": "python3"
  },
  "language_info": {
   "codemirror_mode": {
    "name": "ipython",
    "version": 3
   },
   "file_extension": ".py",
   "mimetype": "text/x-python",
   "name": "python",
   "nbconvert_exporter": "python",
   "pygments_lexer": "ipython3",
   "version": "3.8.8"
  }
 },
 "nbformat": 4,
 "nbformat_minor": 5
}
